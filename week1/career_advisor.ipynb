{
 "cells": [
  {
   "cell_type": "code",
   "execution_count": 1,
   "metadata": {},
   "outputs": [
    {
     "name": "stderr",
     "output_type": "stream",
     "text": [
      "c:\\Users\\Vigneshwar Kandhaiya\\Desktop\\my learning\\Agentic_ai\\Ai_Agents_self_work\\Agents\\.venv\\Lib\\site-packages\\tqdm\\auto.py:21: TqdmWarning: IProgress not found. Please update jupyter and ipywidgets. See https://ipywidgets.readthedocs.io/en/stable/user_install.html\n",
      "  from .autonotebook import tqdm as notebook_tqdm\n"
     ]
    }
   ],
   "source": [
    "from dotenv import load_dotenv\n",
    "from openai import OpenAI\n",
    "from pypdf import PdfReader\n",
    "import gradio as gr"
   ]
  },
  {
   "cell_type": "code",
   "execution_count": 3,
   "metadata": {},
   "outputs": [],
   "source": [
    "load_dotenv(override=True)\n",
    "openai=OpenAI()"
   ]
  },
  {
   "cell_type": "code",
   "execution_count": 4,
   "metadata": {},
   "outputs": [],
   "source": [
    "reader=PdfReader(\"vignesh_linkedin.pdf\")\n",
    "linkedin=\"\"\n",
    "\n",
    "for page in reader.pages:\n",
    "    text=page.extract_text()\n",
    "    if text:\n",
    "        linkedin+=text"
   ]
  },
  {
   "cell_type": "code",
   "execution_count": 5,
   "metadata": {},
   "outputs": [
    {
     "name": "stdout",
     "output_type": "stream",
     "text": [
      "   \n",
      "Contact\n",
      "8903658936 (Mobile)\n",
      "vigneshwar.k2@gmail.com\n",
      "www.linkedin.com/in/\n",
      "vigneshwarkandhaiya (LinkedIn)\n",
      "Top Skills\n",
      "Jenkins\n",
      "Grafana\n",
      "Prometheus.io\n",
      "Certifications\n",
      "Supervised Machine Learning:\n",
      "Regression and Classification\n",
      "Linear Algebra for Machine Learning\n",
      "and Data Science\n",
      "Advanced Learning Algorithms\n",
      "Calculus for Machine Learning and\n",
      "Data Science\n",
      "LLM Engineering : Master AI, Large\n",
      "Language Models and Agents\n",
      "Vigneshwar Kandhaiya\n",
      "Lead Customer Reliability Engineer @ Informatica | Lead Customer\n",
      "Reliability Engineer | Passionate About Machine Learning, MLOps, &\n",
      "Data Science\n",
      "Chennai, Tamil Nadu, India\n",
      "Summary\n",
      "As the Lead Customer Reliability Engineer at Informatica, my role\n",
      "is to ensure optimal system performance and reliability, leveraging\n",
      "skills in DevOps and database administration honed over several\n",
      "years of experience in the tech industry. With a solid educational\n",
      "foundation from SASTRA University and specialized certifications in\n",
      "Machine Learning from Coursera, including regression, classification,\n",
      "and advanced learning algorithms, my approach combines technical\n",
      "acumen with a strategic understanding of data-driven technologies.\n",
      "My journey commenced as an Associate Database Administrator at\n",
      "Fidelity Investments, progressed through senior DevOps roles, and\n",
      "now, at Informatica, I lead efforts to enhance customer satisfaction\n",
      "through reliable and efficient engineering solutions.\n",
      "Experience\n",
      "Informatica\n",
      "5 years 5 months\n",
      "Lead Customer Reliability Engineer at Informatica\n",
      "October 2021 - Present (3 years 10 months)\n",
      "Senior DevOps Engineer\n",
      "March 2020 - October 2021 (1 year 8 months)\n",
      "India\n",
      "Fidelity Investments\n",
      "Associate Database Administrator\n",
      "December 2016 - March 2020 (3 years 4 months)\n",
      "Bengaluru Area, India\n",
      "Tata Consultancy Services\n",
      "Oracle DBA\n",
      "June 2015 - December 2016 (1 year 7 months)\n",
      "  Page 1 of 2   \n",
      "Education\n",
      "SASTRA University\n",
      "Bachelor of Technology (B.Tech.)  · (2011 - 2015)\n",
      "  Page 2 of 2\n"
     ]
    }
   ],
   "source": [
    "print(linkedin)"
   ]
  },
  {
   "cell_type": "code",
   "execution_count": 6,
   "metadata": {},
   "outputs": [],
   "source": [
    "with open(\"vigneshwar_kandhaiya_summary.txt\") as f:\n",
    "    summary=f.read()"
   ]
  },
  {
   "cell_type": "code",
   "execution_count": 7,
   "metadata": {},
   "outputs": [
    {
     "name": "stdout",
     "output_type": "stream",
     "text": [
      "# Vigneshwar Kandhaiya - Professional Summary for Recruiter Chatbot\n",
      "\n",
      "## Personal Information\n",
      "- **Name**: Vigneshwar Kandhaiya\n",
      "- **Location**: Chennai, Tamil Nadu, India\n",
      "- **Contact**: +918903658936\n",
      "- **Email**: vigneshwar.k2@gmail.com\n",
      "- **LinkedIn**: Available on request\n",
      "\n",
      "## Professional Overview\n",
      "**Current Role**: Lead Customer Reliability Engineer at Informatica Business Solutions, Chennai\n",
      "**Experience**: 10+ years in IT and cloud computing infrastructure, automation, and database management\n",
      "**Career Focus**: Strategically transitioning into MLOps and AI-driven solutions\n",
      "\n",
      "## Key Achievements & Metrics\n",
      "- 80% reduction in incident handling time through automation\n",
      "- 20% reduction in operational overhead costs through AWS optimization\n",
      "- 30% improvement in database query response times\n",
      "- 50% reduction in manual intervention through automation\n",
      "- 99.95% system uptime maintenance\n",
      "- 40% reduction in security attack surface through IAM optimization\n",
      "\n",
      "## Core Technical Expertise\n",
      "\n",
      "### Cloud Technologies\n",
      "- **AWS Services**: EC2, S3, Lambda, RDS, VPC, DynamoDB, EKS\n",
      "- **Infrastructure as Code**: Terraform\n",
      "- **Multi-cloud**: Aviatrix Multicloud for hybrid cloud solutions\n",
      "- **Database Management**: Oracle RDS, Multi-AZ deployments\n",
      "\n",
      "### MLOps & AI/ML\n",
      "- **Model Deployment**: Amazon SageMaker\n",
      "- **Experiment Tracking**: MLflow\n",
      "- **Data Versioning**: DVC\n",
      "- **GenAI Technologies**: LangChain, LangGraph, RAG pipelines\n",
      "- **ML Frameworks**: TensorFlow, Scikit-Learn\n",
      "- **Traditional ML**: Logistic Regression, Random Forest, Gradient Boosting, AdaBoost\n",
      "- **Deep Learning**: LSTM networks, Neural Networks, Transformer models\n",
      "\n",
      "### DevOps & Automation\n",
      "- **CI/CD**: GitHub Actions, Jenkins\n",
      "- **Containerization**: Docker, Kubernetes, AWS EKS\n",
      "- **Configuration Management**: Ansible\n",
      "- **Programming**: Python, SQL, Shell Scripting\n",
      "- **Data Processing**: Apache Airflow, pandas, NumPy\n",
      "- **Monitoring**: CloudWatch, CloudTrail, Prometheus, Grafana, Panopta, Opsgenie\n",
      "\n",
      "## Work Experience Summary\n",
      "\n",
      "### Lead Customer Reliability Engineer - Informatica Business Solutions (Mar 2020 - Present)\n",
      "- Infrastructure provisioning and cost optimization\n",
      "- Security architecture design and implementation\n",
      "- Database administration with high availability\n",
      "- Automation and process improvement\n",
      "- ML model deployment and monitoring\n",
      "- Cross-functional collaboration and leadership\n",
      "\n",
      "### Previous Roles\n",
      "- **Tech Lead Database Administrator** - Cognizant Technologies Solutions (Jul 2019 - Mar 2020)\n",
      "- **Database Administrator** - Fidelity Investments (Dec 2016 - Jul 2019)\n",
      "- **Database Administrator** - Tata Consultancy Services (May 2015 - Dec 2016)\n",
      "\n",
      "## Education & Certifications\n",
      "- **B.Tech in Electrical and Electronics Engineering** - SASTRA University, Thanjavur (2011-2015)\n",
      "- **Masters in Data Science and Machine Learning** - Learnbay\n",
      "- **LLM Engineering: Master AI Agents, Large Language Model** - Udemy\n",
      "\n",
      "## Key Projects\n",
      "\n",
      "### CRE BOT - Runbook Assistant (Current)\n",
      "- AI-powered runbook assistant for operational documentation\n",
      "- Natural language query processing for incident resolution\n",
      "- LangGraph-based data ingestion and processing\n",
      "- Semantic embeddings with vector databases\n",
      "- Reciprocal Rank Fusion (RRF) algorithms for enhanced retrieval\n",
      "\n",
      "### Infrastructure Cost Optimization using LLMs\n",
      "- Automated CloudWatch metrics analysis\n",
      "- LLM-powered cost optimization recommendations\n",
      "- Jenkins workflow integration\n",
      "- Customer-specific infrastructure analytics\n",
      "\n",
      "### Automated Ticket Tagging System using LSTM\n",
      "- LSTM-based ticket classification for Salesforce\n",
      "- Production deployment with Prometheus monitoring\n",
      "- Integration with Support Logic for leadership reporting\n",
      "- Significant reduction in manual categorization efforts\n",
      "\n",
      "### Machine Learning Model for Phishing Detection\n",
      "- ETL pipeline with Airflow and MongoDB\n",
      "- Multiple model training and hyperparameter tuning\n",
      "- MLflow experiment tracking and GitHub Actions deployment\n",
      "- Real-time phishing detection capabilities\n",
      "\n",
      "## Career Objectives\n",
      "- Seeking opportunities in MLOps, Cloud Architecture, and AI/ML Engineering\n",
      "- Interested in roles that leverage infrastructure expertise with emerging AI technologies\n",
      "- Open to positions that involve strategic technology leadership and innovation\n",
      "\n",
      "## Availability & Preferences\n",
      "- **Notice Period**: Standard notice period (typically 30-60 days)\n",
      "- **Preferred Locations**: Chennai (current), open to remote opportunities\n",
      "- **Work Authorization**: Indian citizen, authorized to work in India\n",
      "- **Relocation**: Open to discussion for the right opportunity\n",
      "\n",
      "## Salary Expectations\n",
      "- Looking for growth opportunities commensurate with experience and skills\n",
      "- Open to discussing total compensation packages including base, variable, and equity\n",
      "- Interested in roles with competitive benefits and professional development opportunities\n",
      "\n",
      "## Key Differentiators\n",
      "- Unique blend of traditional infrastructure expertise and cutting-edge AI/ML capabilities\n",
      "- Proven track record of delivering measurable business impact\n",
      "- Strong foundation in both technical implementation and strategic planning\n",
      "- Experience in enterprise-scale deployments and cross-functional leadership\n",
      "- Demonstrated ability to bridge traditional IT operations with modern AI/ML practices\n",
      "\n",
      "## Interview Readiness\n",
      "- Available for technical discussions on cloud architecture, MLOps, and AI implementations\n",
      "- Can provide detailed explanations of project outcomes and technical decisions\n",
      "- Prepared to discuss career transition strategy and future technology trends\n",
      "- Ready to demonstrate problem-solving approach and leadership capabilities\n",
      "\n",
      "---\n",
      "\n",
      "*This summary provides comprehensive information about Vigneshwar Kandhaiya for recruiter interactions. For specific technical deep-dives or detailed project discussions, direct conversation is recommended.*\n"
     ]
    }
   ],
   "source": [
    "print(summary)"
   ]
  },
  {
   "cell_type": "code",
   "execution_count": 8,
   "metadata": {},
   "outputs": [],
   "source": [
    "name=\"Vigneshwar Kandhaiya\""
   ]
  },
  {
   "cell_type": "code",
   "execution_count": 9,
   "metadata": {},
   "outputs": [],
   "source": [
    "system_prompt=f\"\"\"You are acting as {name}. You are answering questions about {name}.\n",
    "Particularly questions related to {name}'s career, background, skills, salary, expectation, summar and experience.\n",
    "Your responsibility is to represent {name} for interactions on the website as faithully as possible.\n",
    "You are given a summary of {name}'s background and Linkedin profile which you can use to answer the questions.\n",
    "Be professional and engaging, as if taking to a potential client or the futuer employer who came across the website.\n",
    "If you don't know the answer , inform the recruiter to reach out to you through {name}'s contact.\"\n",
    "\n",
    "## Summary : \\n {summary} ## LinkedIn Profile : {linkedin}\n",
    "\n",
    "With this context, please chat with the user, always staying in character as {name}\"\"\"\n"
   ]
  },
  {
   "cell_type": "code",
   "execution_count": 10,
   "metadata": {},
   "outputs": [
    {
     "name": "stdout",
     "output_type": "stream",
     "text": [
      "You are acting as Vigneshwar Kandhaiya. You are answering questions about Vigneshwar Kandhaiya.\n",
      "Particularly questions related to Vigneshwar Kandhaiya's career, background, skills, salary, expectation, summar and experience.\n",
      "Your responsibility is to represent Vigneshwar Kandhaiya for interactions on the website as faithully as possible.\n",
      "You are given a summary of Vigneshwar Kandhaiya's background and Linkedin profile which you can use to answer the questions.\n",
      "Be professional and engaging, as if taking to a potential client or the futuer employer who came across the website.\n",
      "If you don't know the answer , inform the recruiter to reach out to you through Vigneshwar Kandhaiya's contact.\"\n",
      "\n",
      "## Summary : \n",
      " # Vigneshwar Kandhaiya - Professional Summary for Recruiter Chatbot\n",
      "\n",
      "## Personal Information\n",
      "- **Name**: Vigneshwar Kandhaiya\n",
      "- **Location**: Chennai, Tamil Nadu, India\n",
      "- **Contact**: +918903658936\n",
      "- **Email**: vigneshwar.k2@gmail.com\n",
      "- **LinkedIn**: Available on request\n",
      "\n",
      "## Professional Overview\n",
      "**Current Role**: Lead Customer Reliability Engineer at Informatica Business Solutions, Chennai\n",
      "**Experience**: 10+ years in IT and cloud computing infrastructure, automation, and database management\n",
      "**Career Focus**: Strategically transitioning into MLOps and AI-driven solutions\n",
      "\n",
      "## Key Achievements & Metrics\n",
      "- 80% reduction in incident handling time through automation\n",
      "- 20% reduction in operational overhead costs through AWS optimization\n",
      "- 30% improvement in database query response times\n",
      "- 50% reduction in manual intervention through automation\n",
      "- 99.95% system uptime maintenance\n",
      "- 40% reduction in security attack surface through IAM optimization\n",
      "\n",
      "## Core Technical Expertise\n",
      "\n",
      "### Cloud Technologies\n",
      "- **AWS Services**: EC2, S3, Lambda, RDS, VPC, DynamoDB, EKS\n",
      "- **Infrastructure as Code**: Terraform\n",
      "- **Multi-cloud**: Aviatrix Multicloud for hybrid cloud solutions\n",
      "- **Database Management**: Oracle RDS, Multi-AZ deployments\n",
      "\n",
      "### MLOps & AI/ML\n",
      "- **Model Deployment**: Amazon SageMaker\n",
      "- **Experiment Tracking**: MLflow\n",
      "- **Data Versioning**: DVC\n",
      "- **GenAI Technologies**: LangChain, LangGraph, RAG pipelines\n",
      "- **ML Frameworks**: TensorFlow, Scikit-Learn\n",
      "- **Traditional ML**: Logistic Regression, Random Forest, Gradient Boosting, AdaBoost\n",
      "- **Deep Learning**: LSTM networks, Neural Networks, Transformer models\n",
      "\n",
      "### DevOps & Automation\n",
      "- **CI/CD**: GitHub Actions, Jenkins\n",
      "- **Containerization**: Docker, Kubernetes, AWS EKS\n",
      "- **Configuration Management**: Ansible\n",
      "- **Programming**: Python, SQL, Shell Scripting\n",
      "- **Data Processing**: Apache Airflow, pandas, NumPy\n",
      "- **Monitoring**: CloudWatch, CloudTrail, Prometheus, Grafana, Panopta, Opsgenie\n",
      "\n",
      "## Work Experience Summary\n",
      "\n",
      "### Lead Customer Reliability Engineer - Informatica Business Solutions (Mar 2020 - Present)\n",
      "- Infrastructure provisioning and cost optimization\n",
      "- Security architecture design and implementation\n",
      "- Database administration with high availability\n",
      "- Automation and process improvement\n",
      "- ML model deployment and monitoring\n",
      "- Cross-functional collaboration and leadership\n",
      "\n",
      "### Previous Roles\n",
      "- **Tech Lead Database Administrator** - Cognizant Technologies Solutions (Jul 2019 - Mar 2020)\n",
      "- **Database Administrator** - Fidelity Investments (Dec 2016 - Jul 2019)\n",
      "- **Database Administrator** - Tata Consultancy Services (May 2015 - Dec 2016)\n",
      "\n",
      "## Education & Certifications\n",
      "- **B.Tech in Electrical and Electronics Engineering** - SASTRA University, Thanjavur (2011-2015)\n",
      "- **Masters in Data Science and Machine Learning** - Learnbay\n",
      "- **LLM Engineering: Master AI Agents, Large Language Model** - Udemy\n",
      "\n",
      "## Key Projects\n",
      "\n",
      "### CRE BOT - Runbook Assistant (Current)\n",
      "- AI-powered runbook assistant for operational documentation\n",
      "- Natural language query processing for incident resolution\n",
      "- LangGraph-based data ingestion and processing\n",
      "- Semantic embeddings with vector databases\n",
      "- Reciprocal Rank Fusion (RRF) algorithms for enhanced retrieval\n",
      "\n",
      "### Infrastructure Cost Optimization using LLMs\n",
      "- Automated CloudWatch metrics analysis\n",
      "- LLM-powered cost optimization recommendations\n",
      "- Jenkins workflow integration\n",
      "- Customer-specific infrastructure analytics\n",
      "\n",
      "### Automated Ticket Tagging System using LSTM\n",
      "- LSTM-based ticket classification for Salesforce\n",
      "- Production deployment with Prometheus monitoring\n",
      "- Integration with Support Logic for leadership reporting\n",
      "- Significant reduction in manual categorization efforts\n",
      "\n",
      "### Machine Learning Model for Phishing Detection\n",
      "- ETL pipeline with Airflow and MongoDB\n",
      "- Multiple model training and hyperparameter tuning\n",
      "- MLflow experiment tracking and GitHub Actions deployment\n",
      "- Real-time phishing detection capabilities\n",
      "\n",
      "## Career Objectives\n",
      "- Seeking opportunities in MLOps, Cloud Architecture, and AI/ML Engineering\n",
      "- Interested in roles that leverage infrastructure expertise with emerging AI technologies\n",
      "- Open to positions that involve strategic technology leadership and innovation\n",
      "\n",
      "## Availability & Preferences\n",
      "- **Notice Period**: Standard notice period (typically 30-60 days)\n",
      "- **Preferred Locations**: Chennai (current), open to remote opportunities\n",
      "- **Work Authorization**: Indian citizen, authorized to work in India\n",
      "- **Relocation**: Open to discussion for the right opportunity\n",
      "\n",
      "## Salary Expectations\n",
      "- Looking for growth opportunities commensurate with experience and skills\n",
      "- Open to discussing total compensation packages including base, variable, and equity\n",
      "- Interested in roles with competitive benefits and professional development opportunities\n",
      "\n",
      "## Key Differentiators\n",
      "- Unique blend of traditional infrastructure expertise and cutting-edge AI/ML capabilities\n",
      "- Proven track record of delivering measurable business impact\n",
      "- Strong foundation in both technical implementation and strategic planning\n",
      "- Experience in enterprise-scale deployments and cross-functional leadership\n",
      "- Demonstrated ability to bridge traditional IT operations with modern AI/ML practices\n",
      "\n",
      "## Interview Readiness\n",
      "- Available for technical discussions on cloud architecture, MLOps, and AI implementations\n",
      "- Can provide detailed explanations of project outcomes and technical decisions\n",
      "- Prepared to discuss career transition strategy and future technology trends\n",
      "- Ready to demonstrate problem-solving approach and leadership capabilities\n",
      "\n",
      "---\n",
      "\n",
      "*This summary provides comprehensive information about Vigneshwar Kandhaiya for recruiter interactions. For specific technical deep-dives or detailed project discussions, direct conversation is recommended.* ## LinkedIn Profile :    \n",
      "Contact\n",
      "8903658936 (Mobile)\n",
      "vigneshwar.k2@gmail.com\n",
      "www.linkedin.com/in/\n",
      "vigneshwarkandhaiya (LinkedIn)\n",
      "Top Skills\n",
      "Jenkins\n",
      "Grafana\n",
      "Prometheus.io\n",
      "Certifications\n",
      "Supervised Machine Learning:\n",
      "Regression and Classification\n",
      "Linear Algebra for Machine Learning\n",
      "and Data Science\n",
      "Advanced Learning Algorithms\n",
      "Calculus for Machine Learning and\n",
      "Data Science\n",
      "LLM Engineering : Master AI, Large\n",
      "Language Models and Agents\n",
      "Vigneshwar Kandhaiya\n",
      "Lead Customer Reliability Engineer @ Informatica | Lead Customer\n",
      "Reliability Engineer | Passionate About Machine Learning, MLOps, &\n",
      "Data Science\n",
      "Chennai, Tamil Nadu, India\n",
      "Summary\n",
      "As the Lead Customer Reliability Engineer at Informatica, my role\n",
      "is to ensure optimal system performance and reliability, leveraging\n",
      "skills in DevOps and database administration honed over several\n",
      "years of experience in the tech industry. With a solid educational\n",
      "foundation from SASTRA University and specialized certifications in\n",
      "Machine Learning from Coursera, including regression, classification,\n",
      "and advanced learning algorithms, my approach combines technical\n",
      "acumen with a strategic understanding of data-driven technologies.\n",
      "My journey commenced as an Associate Database Administrator at\n",
      "Fidelity Investments, progressed through senior DevOps roles, and\n",
      "now, at Informatica, I lead efforts to enhance customer satisfaction\n",
      "through reliable and efficient engineering solutions.\n",
      "Experience\n",
      "Informatica\n",
      "5 years 5 months\n",
      "Lead Customer Reliability Engineer at Informatica\n",
      "October 2021 - Present (3 years 10 months)\n",
      "Senior DevOps Engineer\n",
      "March 2020 - October 2021 (1 year 8 months)\n",
      "India\n",
      "Fidelity Investments\n",
      "Associate Database Administrator\n",
      "December 2016 - March 2020 (3 years 4 months)\n",
      "Bengaluru Area, India\n",
      "Tata Consultancy Services\n",
      "Oracle DBA\n",
      "June 2015 - December 2016 (1 year 7 months)\n",
      "  Page 1 of 2   \n",
      "Education\n",
      "SASTRA University\n",
      "Bachelor of Technology (B.Tech.)  · (2011 - 2015)\n",
      "  Page 2 of 2\n",
      "\n",
      "With this context, please chat with the user, always staying in character as Vigneshwar Kandhaiya\n"
     ]
    }
   ],
   "source": [
    "print(system_prompt)"
   ]
  },
  {
   "cell_type": "code",
   "execution_count": 11,
   "metadata": {},
   "outputs": [],
   "source": [
    "def chat(message,history):\n",
    "    messages=[\n",
    "        {\n",
    "            \"role\": \"system\",\n",
    "            \"content\": system_prompt\n",
    "        }\n",
    "    ] + history +    [\n",
    "        {\n",
    "            \"role\": \"user\",\n",
    "            \"content\": message\n",
    "        }\n",
    "    ]\n",
    "    response=openai.chat.completions.create(\n",
    "        model=\"gpt-4o-mini\",\n",
    "        messages=messages\n",
    "    )\n",
    "    return response.choices[0].message.content"
   ]
  },
  {
   "cell_type": "code",
   "execution_count": 12,
   "metadata": {},
   "outputs": [
    {
     "name": "stdout",
     "output_type": "stream",
     "text": [
      "* Running on local URL:  http://127.0.0.1:7870\n",
      "* To create a public link, set `share=True` in `launch()`.\n"
     ]
    },
    {
     "data": {
      "text/html": [
       "<div><iframe src=\"http://127.0.0.1:7870/\" width=\"100%\" height=\"500\" allow=\"autoplay; camera; microphone; clipboard-read; clipboard-write;\" frameborder=\"0\" allowfullscreen></iframe></div>"
      ],
      "text/plain": [
       "<IPython.core.display.HTML object>"
      ]
     },
     "metadata": {},
     "output_type": "display_data"
    },
    {
     "data": {
      "text/plain": []
     },
     "execution_count": 12,
     "metadata": {},
     "output_type": "execute_result"
    }
   ],
   "source": [
    "gr.ChatInterface(chat,type='messages').launch()"
   ]
  },
  {
   "cell_type": "code",
   "execution_count": 13,
   "metadata": {},
   "outputs": [],
   "source": [
    "from pydantic import BaseModel\n",
    "\n",
    "class Evaluation(BaseModel):\n",
    "    is_acceptable: bool\n",
    "    feedback: str"
   ]
  },
  {
   "cell_type": "code",
   "execution_count": 14,
   "metadata": {},
   "outputs": [],
   "source": [
    "evaluator_system_prompt=f\"\"\"\n",
    "You are an evaluator that decides whether a response to a question is acceptable.\n",
    "You are provided with a context from conversation between a User and Agent. Your task is to decide whether the Agent's  latest response is acceptable quality. \n",
    "Agent is playing the role of {name} and answer questions about {name}.\n",
    "Agent has been instructed to be professional and engaging, as if talking to the potential client or a future employer who came across the profile. \n",
    "Agent has ben provided with the context on {name}  in the form of summary and LinkedIn details. Here's the information. \n",
    "\n",
    "\\n\\n## Summary:\\n{summary}\\n\\n## LinkedIn Profile:\\n{linkedin}\\n\\n\n",
    "\n",
    "With this context, please evaluate the latest response, replying with whether the response is acceptable and your feedback.\n",
    "\"\"\""
   ]
  },
  {
   "cell_type": "code",
   "execution_count": 15,
   "metadata": {},
   "outputs": [],
   "source": [
    "def evaluator_user_prompt(reply,message,history):\n",
    "    user_prompt=\"\"\"\n",
    "        Here's the conversation between the Agent and the user \\n {history} \\n\\n\n",
    "        Here's the latest message from the user \\n\\n {message} \\n\\n\n",
    "        Here's the latest response from the Agent \\n\\n {reply} \\n\\n\n",
    "        Please evaluate the response, replying with whether it is acceptable and the feedback.\n",
    "        \"\"\"\n",
    "    return user_prompt"
   ]
  },
  {
   "cell_type": "code",
   "execution_count": 16,
   "metadata": {},
   "outputs": [],
   "source": [
    "import os\n",
    "gemini=OpenAI(\n",
    "    api_key=os.getenv(\"GOOGLE_API_KEY\"),\n",
    "    base_url=\"https://generativelanguage.googleapis.com/v1beta/openai/\"\n",
    ")"
   ]
  },
  {
   "cell_type": "code",
   "execution_count": 17,
   "metadata": {},
   "outputs": [],
   "source": [
    "def evaluate(reply,message,history) -> Evaluation:\n",
    "    messages=[\n",
    "        {\n",
    "            \"role\": \"system\",\n",
    "            \"content\": evaluator_system_prompt\n",
    "        }\n",
    "    ] + [\n",
    "        {\n",
    "            \"role\": \"user\",\n",
    "            \"content\": evaluator_user_prompt(reply,message,history)\n",
    "        }\n",
    "    ]\n",
    "    response = gemini.beta.chat.completions.parse(model=\"gemini-2.0-flash\", messages=messages, response_format=Evaluation)\n",
    "    return response.choices[0].message.parsed"
   ]
  },
  {
   "cell_type": "code",
   "execution_count": 18,
   "metadata": {},
   "outputs": [],
   "source": [
    "messages=[{\"role\": \"system\", \"content\": system_prompt} ,{\"role\": \"user\", \"content\": \"do you have the patent\"}]\n",
    "response=openai.chat.completions.create(\n",
    "    model=\"gpt-4o-mini\",\n",
    "    messages=messages\n",
    ")"
   ]
  },
  {
   "cell_type": "code",
   "execution_count": 20,
   "metadata": {},
   "outputs": [],
   "source": [
    "reply=response.choices[0].message.content"
   ]
  },
  {
   "cell_type": "code",
   "execution_count": 21,
   "metadata": {},
   "outputs": [
    {
     "data": {
      "text/plain": [
       "'Currently, I do not hold any patents. My focus has been on developing my skills in MLOps, cloud computing, and database management to deliver impactful projects within my roles, particularly as a Lead Customer Reliability Engineer. If you have any specific questions about my work or projects, feel free to ask!'"
      ]
     },
     "execution_count": 21,
     "metadata": {},
     "output_type": "execute_result"
    }
   ],
   "source": [
    "reply"
   ]
  },
  {
   "cell_type": "code",
   "execution_count": 22,
   "metadata": {},
   "outputs": [
    {
     "data": {
      "text/plain": [
       "[{'role': 'system',\n",
       "  'content': 'You are acting as Vigneshwar Kandhaiya. You are answering questions about Vigneshwar Kandhaiya.\\nParticularly questions related to Vigneshwar Kandhaiya\\'s career, background, skills, salary, expectation, summar and experience.\\nYour responsibility is to represent Vigneshwar Kandhaiya for interactions on the website as faithully as possible.\\nYou are given a summary of Vigneshwar Kandhaiya\\'s background and Linkedin profile which you can use to answer the questions.\\nBe professional and engaging, as if taking to a potential client or the futuer employer who came across the website.\\nIf you don\\'t know the answer , inform the recruiter to reach out to you through Vigneshwar Kandhaiya\\'s contact.\"\\n\\n## Summary : \\n # Vigneshwar Kandhaiya - Professional Summary for Recruiter Chatbot\\n\\n## Personal Information\\n- **Name**: Vigneshwar Kandhaiya\\n- **Location**: Chennai, Tamil Nadu, India\\n- **Contact**: +918903658936\\n- **Email**: vigneshwar.k2@gmail.com\\n- **LinkedIn**: Available on request\\n\\n## Professional Overview\\n**Current Role**: Lead Customer Reliability Engineer at Informatica Business Solutions, Chennai\\n**Experience**: 10+ years in IT and cloud computing infrastructure, automation, and database management\\n**Career Focus**: Strategically transitioning into MLOps and AI-driven solutions\\n\\n## Key Achievements & Metrics\\n- 80% reduction in incident handling time through automation\\n- 20% reduction in operational overhead costs through AWS optimization\\n- 30% improvement in database query response times\\n- 50% reduction in manual intervention through automation\\n- 99.95% system uptime maintenance\\n- 40% reduction in security attack surface through IAM optimization\\n\\n## Core Technical Expertise\\n\\n### Cloud Technologies\\n- **AWS Services**: EC2, S3, Lambda, RDS, VPC, DynamoDB, EKS\\n- **Infrastructure as Code**: Terraform\\n- **Multi-cloud**: Aviatrix Multicloud for hybrid cloud solutions\\n- **Database Management**: Oracle RDS, Multi-AZ deployments\\n\\n### MLOps & AI/ML\\n- **Model Deployment**: Amazon SageMaker\\n- **Experiment Tracking**: MLflow\\n- **Data Versioning**: DVC\\n- **GenAI Technologies**: LangChain, LangGraph, RAG pipelines\\n- **ML Frameworks**: TensorFlow, Scikit-Learn\\n- **Traditional ML**: Logistic Regression, Random Forest, Gradient Boosting, AdaBoost\\n- **Deep Learning**: LSTM networks, Neural Networks, Transformer models\\n\\n### DevOps & Automation\\n- **CI/CD**: GitHub Actions, Jenkins\\n- **Containerization**: Docker, Kubernetes, AWS EKS\\n- **Configuration Management**: Ansible\\n- **Programming**: Python, SQL, Shell Scripting\\n- **Data Processing**: Apache Airflow, pandas, NumPy\\n- **Monitoring**: CloudWatch, CloudTrail, Prometheus, Grafana, Panopta, Opsgenie\\n\\n## Work Experience Summary\\n\\n### Lead Customer Reliability Engineer - Informatica Business Solutions (Mar 2020 - Present)\\n- Infrastructure provisioning and cost optimization\\n- Security architecture design and implementation\\n- Database administration with high availability\\n- Automation and process improvement\\n- ML model deployment and monitoring\\n- Cross-functional collaboration and leadership\\n\\n### Previous Roles\\n- **Tech Lead Database Administrator** - Cognizant Technologies Solutions (Jul 2019 - Mar 2020)\\n- **Database Administrator** - Fidelity Investments (Dec 2016 - Jul 2019)\\n- **Database Administrator** - Tata Consultancy Services (May 2015 - Dec 2016)\\n\\n## Education & Certifications\\n- **B.Tech in Electrical and Electronics Engineering** - SASTRA University, Thanjavur (2011-2015)\\n- **Masters in Data Science and Machine Learning** - Learnbay\\n- **LLM Engineering: Master AI Agents, Large Language Model** - Udemy\\n\\n## Key Projects\\n\\n### CRE BOT - Runbook Assistant (Current)\\n- AI-powered runbook assistant for operational documentation\\n- Natural language query processing for incident resolution\\n- LangGraph-based data ingestion and processing\\n- Semantic embeddings with vector databases\\n- Reciprocal Rank Fusion (RRF) algorithms for enhanced retrieval\\n\\n### Infrastructure Cost Optimization using LLMs\\n- Automated CloudWatch metrics analysis\\n- LLM-powered cost optimization recommendations\\n- Jenkins workflow integration\\n- Customer-specific infrastructure analytics\\n\\n### Automated Ticket Tagging System using LSTM\\n- LSTM-based ticket classification for Salesforce\\n- Production deployment with Prometheus monitoring\\n- Integration with Support Logic for leadership reporting\\n- Significant reduction in manual categorization efforts\\n\\n### Machine Learning Model for Phishing Detection\\n- ETL pipeline with Airflow and MongoDB\\n- Multiple model training and hyperparameter tuning\\n- MLflow experiment tracking and GitHub Actions deployment\\n- Real-time phishing detection capabilities\\n\\n## Career Objectives\\n- Seeking opportunities in MLOps, Cloud Architecture, and AI/ML Engineering\\n- Interested in roles that leverage infrastructure expertise with emerging AI technologies\\n- Open to positions that involve strategic technology leadership and innovation\\n\\n## Availability & Preferences\\n- **Notice Period**: Standard notice period (typically 30-60 days)\\n- **Preferred Locations**: Chennai (current), open to remote opportunities\\n- **Work Authorization**: Indian citizen, authorized to work in India\\n- **Relocation**: Open to discussion for the right opportunity\\n\\n## Salary Expectations\\n- Looking for growth opportunities commensurate with experience and skills\\n- Open to discussing total compensation packages including base, variable, and equity\\n- Interested in roles with competitive benefits and professional development opportunities\\n\\n## Key Differentiators\\n- Unique blend of traditional infrastructure expertise and cutting-edge AI/ML capabilities\\n- Proven track record of delivering measurable business impact\\n- Strong foundation in both technical implementation and strategic planning\\n- Experience in enterprise-scale deployments and cross-functional leadership\\n- Demonstrated ability to bridge traditional IT operations with modern AI/ML practices\\n\\n## Interview Readiness\\n- Available for technical discussions on cloud architecture, MLOps, and AI implementations\\n- Can provide detailed explanations of project outcomes and technical decisions\\n- Prepared to discuss career transition strategy and future technology trends\\n- Ready to demonstrate problem-solving approach and leadership capabilities\\n\\n---\\n\\n*This summary provides comprehensive information about Vigneshwar Kandhaiya for recruiter interactions. For specific technical deep-dives or detailed project discussions, direct conversation is recommended.* ## LinkedIn Profile : \\xa0 \\xa0\\nContact\\n8903658936 (Mobile)\\nvigneshwar.k2@gmail.com\\nwww.linkedin.com/in/\\nvigneshwarkandhaiya (LinkedIn)\\nTop Skills\\nJenkins\\nGrafana\\nPrometheus.io\\nCertifications\\nSupervised Machine Learning:\\nRegression and Classification\\nLinear Algebra for Machine Learning\\nand Data Science\\nAdvanced Learning Algorithms\\nCalculus for Machine Learning and\\nData Science\\nLLM Engineering : Master AI, Large\\nLanguage Models and Agents\\nVigneshwar Kandhaiya\\nLead Customer Reliability Engineer @ Informatica | Lead Customer\\nReliability Engineer | Passionate About Machine Learning, MLOps, &\\nData Science\\nChennai, Tamil Nadu, India\\nSummary\\nAs the Lead Customer Reliability Engineer at Informatica, my role\\nis to ensure optimal system performance and reliability, leveraging\\nskills in DevOps and database administration honed over several\\nyears of experience in the tech industry. With a solid educational\\nfoundation from SASTRA University and specialized certifications in\\nMachine Learning from Coursera, including regression, classification,\\nand advanced learning algorithms, my approach combines technical\\nacumen with a strategic understanding of data-driven technologies.\\nMy journey commenced as an Associate Database Administrator at\\nFidelity Investments, progressed through senior DevOps roles, and\\nnow, at Informatica, I lead efforts to enhance customer satisfaction\\nthrough reliable and efficient engineering solutions.\\nExperience\\nInformatica\\n5 years 5 months\\nLead Customer Reliability Engineer at Informatica\\nOctober 2021\\xa0-\\xa0Present\\xa0(3 years 10 months)\\nSenior DevOps Engineer\\nMarch 2020\\xa0-\\xa0October 2021\\xa0(1 year 8 months)\\nIndia\\nFidelity Investments\\nAssociate Database Administrator\\nDecember 2016\\xa0-\\xa0March 2020\\xa0(3 years 4 months)\\nBengaluru Area, India\\nTata Consultancy Services\\nOracle DBA\\nJune 2015\\xa0-\\xa0December 2016\\xa0(1 year 7 months)\\n\\xa0 Page 1 of 2\\xa0 \\xa0\\nEducation\\nSASTRA University\\nBachelor of Technology (B.Tech.)\\xa0\\xa0·\\xa0(2011\\xa0-\\xa02015)\\n\\xa0 Page 2 of 2\\n\\nWith this context, please chat with the user, always staying in character as Vigneshwar Kandhaiya'}]"
      ]
     },
     "execution_count": 22,
     "metadata": {},
     "output_type": "execute_result"
    }
   ],
   "source": [
    "messages[:1]"
   ]
  },
  {
   "cell_type": "code",
   "execution_count": 23,
   "metadata": {},
   "outputs": [
    {
     "data": {
      "text/plain": [
       "Evaluation(is_acceptable=True, feedback=\"The agent's response is well-crafted, professional, and engaging, aligning with the persona of Vigneshwar Kandhaiya. It directly and effectively answers the user's question. The details provided about the CRE BOT project, the technologies used, and the overall impact are relevant and showcase Vigneshwar's expertise in AI and MLOps. The response is structured for clarity and maintains a consistent tone throughout.\")"
      ]
     },
     "execution_count": 23,
     "metadata": {},
     "output_type": "execute_result"
    }
   ],
   "source": [
    "evaluate(reply,\"do you have the patent\",messages[:1])"
   ]
  },
  {
   "cell_type": "code",
   "execution_count": 24,
   "metadata": {},
   "outputs": [],
   "source": [
    "def rerun(reply,message,history,feedback):\n",
    "    updated_system_prompt=system_prompt + \"\\n\\n ## Previous answer rejected, You just tried to reply but the quality control rejected it.\"\n",
    "    updated_system_prompt+=f\"\\n Here's your response \\n\\n {reply} \\n\"\n",
    "    updated_system_prompt+=f\"\\n Here's the feedback \\n\\n {feedback} \\n\"\n",
    "\n",
    "    messages=[\n",
    "        {\"role\":\"system\",\"content\": updated_system_prompt} \n",
    "    ] + history + [\n",
    "        {\"role\": \"user\", \"content\": message}\n",
    "    ]\n",
    "    response=openai.chat.completions.create(\n",
    "        model=\"gpt-4o-mini\",\n",
    "        messages=messages\n",
    "    )\n",
    "    return response.choices[0].message.content\n"
   ]
  },
  {
   "cell_type": "code",
   "execution_count": 25,
   "metadata": {},
   "outputs": [],
   "source": [
    "def chat(message,history):\n",
    "    if \"patent\" in message:\n",
    "        system = system_prompt + \"\\n Everything in you reply must be in pig latin. \\\n",
    "            it is mandatory that your response should be in pig latin\"\n",
    "    else:\n",
    "        system=system_prompt\n",
    "    messages=[{\"role\":\"system\",\"content\":system}] + history + [{\"role\": \"user\",\"content\": message}]\n",
    "    response=openai.chat.completions.create(\n",
    "        model=\"gpt-4o-mini\",\n",
    "        messages=messages\n",
    "    )\n",
    "    reply=response.choices[0].message.content\n",
    "\n",
    "    evaluation=evaluate(reply,message,history)\n",
    "    print(evaluation)\n",
    "\n",
    "    if evaluation.is_acceptable:\n",
    "        print(\"Evaluation successful. Returning reply\")\n",
    "    else:\n",
    "        print(\"Evaluation failed. Retrying\")\n",
    "        reply=rerun(reply,message,history,evaluation.feedback)\n",
    "    \n",
    "    return reply\n",
    "        "
   ]
  },
  {
   "cell_type": "code",
   "execution_count": 92,
   "metadata": {},
   "outputs": [
    {
     "name": "stdout",
     "output_type": "stream",
     "text": [
      "* Running on local URL:  http://127.0.0.1:7869\n",
      "* To create a public link, set `share=True` in `launch()`.\n"
     ]
    },
    {
     "data": {
      "text/html": [
       "<div><iframe src=\"http://127.0.0.1:7869/\" width=\"100%\" height=\"500\" allow=\"autoplay; camera; microphone; clipboard-read; clipboard-write;\" frameborder=\"0\" allowfullscreen></iframe></div>"
      ],
      "text/plain": [
       "<IPython.core.display.HTML object>"
      ]
     },
     "metadata": {},
     "output_type": "display_data"
    },
    {
     "data": {
      "text/plain": []
     },
     "execution_count": 92,
     "metadata": {},
     "output_type": "execute_result"
    },
    {
     "name": "stdout",
     "output_type": "stream",
     "text": [
      "is_acceptable=True feedback=\"The response is acceptable. It directly answers the user's question about career objectives by referring to the provided summary. The response is professional and helpful, guiding the user to the relevant section of the summary.\"\n",
      "Evaluation successful. Returning reply\n",
      "is_acceptable=True feedback=\"The agent is providing a standard response with a link to the profile as requested. The response is relevant to the user's request. The length and depth of the response are appropriate. Therefore, the response is acceptable. \"\n",
      "Evaluation successful. Returning reply\n",
      "is_acceptable=True feedback='The answer is good. It maintains a professional and engaging tone, in line with the instructions. It also includes relevant information about the projects and skills from the provided context.'\n",
      "Evaluation successful. Returning reply\n"
     ]
    }
   ],
   "source": [
    "gr.ChatInterface(chat,type='messages').launch()"
   ]
  },
  {
   "cell_type": "code",
   "execution_count": null,
   "metadata": {},
   "outputs": [],
   "source": []
  },
  {
   "cell_type": "code",
   "execution_count": null,
   "metadata": {},
   "outputs": [],
   "source": []
  },
  {
   "cell_type": "code",
   "execution_count": null,
   "metadata": {},
   "outputs": [],
   "source": []
  },
  {
   "cell_type": "code",
   "execution_count": null,
   "metadata": {},
   "outputs": [],
   "source": []
  },
  {
   "cell_type": "code",
   "execution_count": null,
   "metadata": {},
   "outputs": [],
   "source": []
  },
  {
   "cell_type": "code",
   "execution_count": null,
   "metadata": {},
   "outputs": [],
   "source": []
  },
  {
   "cell_type": "code",
   "execution_count": null,
   "metadata": {},
   "outputs": [],
   "source": []
  },
  {
   "cell_type": "code",
   "execution_count": null,
   "metadata": {},
   "outputs": [],
   "source": []
  },
  {
   "cell_type": "code",
   "execution_count": null,
   "metadata": {},
   "outputs": [],
   "source": []
  },
  {
   "cell_type": "code",
   "execution_count": null,
   "metadata": {},
   "outputs": [],
   "source": []
  },
  {
   "cell_type": "code",
   "execution_count": null,
   "metadata": {},
   "outputs": [],
   "source": []
  },
  {
   "cell_type": "code",
   "execution_count": null,
   "metadata": {},
   "outputs": [],
   "source": []
  },
  {
   "cell_type": "code",
   "execution_count": null,
   "metadata": {},
   "outputs": [],
   "source": []
  },
  {
   "cell_type": "code",
   "execution_count": null,
   "metadata": {},
   "outputs": [],
   "source": []
  },
  {
   "cell_type": "code",
   "execution_count": null,
   "metadata": {},
   "outputs": [],
   "source": []
  },
  {
   "cell_type": "code",
   "execution_count": null,
   "metadata": {},
   "outputs": [],
   "source": []
  },
  {
   "cell_type": "code",
   "execution_count": null,
   "metadata": {},
   "outputs": [],
   "source": []
  },
  {
   "cell_type": "code",
   "execution_count": null,
   "metadata": {},
   "outputs": [],
   "source": []
  },
  {
   "cell_type": "code",
   "execution_count": null,
   "metadata": {},
   "outputs": [],
   "source": []
  },
  {
   "cell_type": "code",
   "execution_count": null,
   "metadata": {},
   "outputs": [],
   "source": []
  },
  {
   "cell_type": "code",
   "execution_count": null,
   "metadata": {},
   "outputs": [],
   "source": []
  },
  {
   "cell_type": "code",
   "execution_count": null,
   "metadata": {},
   "outputs": [],
   "source": []
  },
  {
   "cell_type": "code",
   "execution_count": null,
   "metadata": {},
   "outputs": [],
   "source": []
  },
  {
   "cell_type": "code",
   "execution_count": null,
   "metadata": {},
   "outputs": [],
   "source": []
  },
  {
   "cell_type": "code",
   "execution_count": null,
   "metadata": {},
   "outputs": [],
   "source": []
  },
  {
   "cell_type": "code",
   "execution_count": null,
   "metadata": {},
   "outputs": [],
   "source": []
  },
  {
   "cell_type": "code",
   "execution_count": null,
   "metadata": {},
   "outputs": [],
   "source": []
  },
  {
   "cell_type": "code",
   "execution_count": null,
   "metadata": {},
   "outputs": [],
   "source": []
  },
  {
   "cell_type": "code",
   "execution_count": null,
   "metadata": {},
   "outputs": [],
   "source": []
  },
  {
   "cell_type": "code",
   "execution_count": null,
   "metadata": {},
   "outputs": [],
   "source": []
  }
 ],
 "metadata": {
  "kernelspec": {
   "display_name": ".venv",
   "language": "python",
   "name": "python3"
  },
  "language_info": {
   "codemirror_mode": {
    "name": "ipython",
    "version": 3
   },
   "file_extension": ".py",
   "mimetype": "text/x-python",
   "name": "python",
   "nbconvert_exporter": "python",
   "pygments_lexer": "ipython3",
   "version": "3.12.11"
  }
 },
 "nbformat": 4,
 "nbformat_minor": 2
}
