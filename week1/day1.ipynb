{
 "cells": [
  {
   "cell_type": "code",
   "execution_count": 3,
   "metadata": {},
   "outputs": [],
   "source": [
    "import os\n",
    "from dotenv import load_dotenv"
   ]
  },
  {
   "cell_type": "code",
   "execution_count": 2,
   "metadata": {},
   "outputs": [
    {
     "data": {
      "text/plain": [
       "True"
      ]
     },
     "execution_count": 2,
     "metadata": {},
     "output_type": "execute_result"
    }
   ],
   "source": [
    "load_dotenv()"
   ]
  },
  {
   "cell_type": "code",
   "execution_count": 5,
   "metadata": {},
   "outputs": [],
   "source": [
    "openai_api_key=os.getenv(\"OPENAI_API_KEY\")\n"
   ]
  },
  {
   "cell_type": "code",
   "execution_count": 6,
   "metadata": {},
   "outputs": [
    {
     "name": "stdout",
     "output_type": "stream",
     "text": [
      "You open ai api key is : sk-proj-\n"
     ]
    }
   ],
   "source": [
    "if openai_api_key:\n",
    "    print(f\"You open ai api key is : {openai_api_key[:8]}\")\n",
    "else:\n",
    "    print(f\"The environment variable does not have the Open ai api key.\")"
   ]
  },
  {
   "cell_type": "code",
   "execution_count": 7,
   "metadata": {},
   "outputs": [],
   "source": [
    "from openai import OpenAI"
   ]
  },
  {
   "cell_type": "code",
   "execution_count": 8,
   "metadata": {},
   "outputs": [],
   "source": [
    "openai_client=OpenAI()"
   ]
  },
  {
   "cell_type": "code",
   "execution_count": 9,
   "metadata": {},
   "outputs": [],
   "source": [
    "messages=[\n",
    "    {\n",
    "        \"role\": \"user\",\n",
    "        \"content\": \"What is 2+2\"\n",
    "    }\n",
    "]"
   ]
  },
  {
   "cell_type": "code",
   "execution_count": 10,
   "metadata": {},
   "outputs": [],
   "source": [
    "response=openai_client.chat.completions.create(\n",
    "    model=\"gpt-4o-mini\",\n",
    "    messages=messages\n",
    ")"
   ]
  },
  {
   "cell_type": "code",
   "execution_count": 16,
   "metadata": {},
   "outputs": [
    {
     "name": "stdout",
     "output_type": "stream",
     "text": [
      "2 + 2 equals 4.\n"
     ]
    }
   ],
   "source": [
    "print(response.choices[0].message.content)"
   ]
  },
  {
   "cell_type": "code",
   "execution_count": 18,
   "metadata": {},
   "outputs": [],
   "source": [
    "prompt_for_question=\"Propose a challenging, hard question to assess an IQ of a person. Repond only with the question\"\n",
    "messages=[\n",
    "    {\n",
    "        \"role\": \"user\",\n",
    "        \"content\": prompt_for_question\n",
    "    }\n",
    "]"
   ]
  },
  {
   "cell_type": "code",
   "execution_count": 19,
   "metadata": {},
   "outputs": [
    {
     "data": {
      "text/plain": [
       "'If you have a sequence of numbers where each number after the first is the sum of the two preceding ones, starting with 0 and 1, what is the 20th number in this sequence?'"
      ]
     },
     "execution_count": 19,
     "metadata": {},
     "output_type": "execute_result"
    }
   ],
   "source": [
    "response=openai_client.chat.completions.create(\n",
    "    model=\"gpt-4o-mini\",\n",
    "    messages=messages\n",
    ")\n",
    "\n",
    "question=response.choices[0].message.content\n",
    "\n",
    "question"
   ]
  },
  {
   "cell_type": "code",
   "execution_count": 20,
   "metadata": {},
   "outputs": [],
   "source": [
    "messages_2=[\n",
    "    {\n",
    "        \"role\": \"user\",\n",
    "        \"content\": question\n",
    "    }\n",
    "]"
   ]
  },
  {
   "cell_type": "code",
   "execution_count": 21,
   "metadata": {},
   "outputs": [],
   "source": [
    "response=openai_client.chat.completions.create(\n",
    "    model=\"gpt-4o-mini\",\n",
    "    messages=messages_2\n",
    ")"
   ]
  },
  {
   "cell_type": "code",
   "execution_count": 23,
   "metadata": {},
   "outputs": [
    {
     "data": {
      "text/plain": [
       "'The sequence you are describing is known as the Fibonacci sequence. The Fibonacci sequence starts with 0 and 1, and each subsequent number is the sum of the two preceding numbers. \\n\\nThe sequence begins as follows:\\n- F(0) = 0\\n- F(1) = 1\\n- F(2) = F(0) + F(1) = 0 + 1 = 1\\n- F(3) = F(1) + F(2) = 1 + 1 = 2\\n- F(4) = F(2) + F(3) = 1 + 2 = 3\\n- F(5) = F(3) + F(4) = 2 + 3 = 5\\n- F(6) = F(4) + F(5) = 3 + 5 = 8\\n- F(7) = F(5) + F(6) = 5 + 8 = 13\\n- F(8) = F(6) + F(7) = 8 + 13 = 21\\n- F(9) = F(7) + F(8) = 13 + 21 = 34\\n- F(10) = F(8) + F(9) = 21 + 34 = 55\\n- F(11) = F(9) + F(10) = 34 + 55 = 89\\n- F(12) = F(10) + F(11) = 55 + 89 = 144\\n- F(13) = F(11) + F(12) = 89 + 144 = 233\\n- F(14) = F(12) + F(13) = 144 + 233 = 377\\n- F(15) = F(13) + F(14) = 233 + 377 = 610\\n- F(16) = F(14) + F(15) = 377 + 610 = 987\\n- F(17) = F(15) + F(16) = 610 + 987 = 1597\\n- F(18) = F(16) + F(17) = 987 + 1597 = 2584\\n- F(19) = F(17) + F(18) = 1597 + 2584 = 4181\\n- F(20) = F(18) + F(19) = 2584 + 4181 = 6765\\n\\nThus, the 20th number in the Fibonacci sequence is **6765**.'"
      ]
     },
     "execution_count": 23,
     "metadata": {},
     "output_type": "execute_result"
    }
   ],
   "source": [
    "answer=response.choices[0].message.content\n",
    "answer"
   ]
  },
  {
   "cell_type": "code",
   "execution_count": 24,
   "metadata": {},
   "outputs": [
    {
     "data": {
      "text/markdown": [
       "The sequence you are describing is known as the Fibonacci sequence. The Fibonacci sequence starts with 0 and 1, and each subsequent number is the sum of the two preceding numbers. \n",
       "\n",
       "The sequence begins as follows:\n",
       "- F(0) = 0\n",
       "- F(1) = 1\n",
       "- F(2) = F(0) + F(1) = 0 + 1 = 1\n",
       "- F(3) = F(1) + F(2) = 1 + 1 = 2\n",
       "- F(4) = F(2) + F(3) = 1 + 2 = 3\n",
       "- F(5) = F(3) + F(4) = 2 + 3 = 5\n",
       "- F(6) = F(4) + F(5) = 3 + 5 = 8\n",
       "- F(7) = F(5) + F(6) = 5 + 8 = 13\n",
       "- F(8) = F(6) + F(7) = 8 + 13 = 21\n",
       "- F(9) = F(7) + F(8) = 13 + 21 = 34\n",
       "- F(10) = F(8) + F(9) = 21 + 34 = 55\n",
       "- F(11) = F(9) + F(10) = 34 + 55 = 89\n",
       "- F(12) = F(10) + F(11) = 55 + 89 = 144\n",
       "- F(13) = F(11) + F(12) = 89 + 144 = 233\n",
       "- F(14) = F(12) + F(13) = 144 + 233 = 377\n",
       "- F(15) = F(13) + F(14) = 233 + 377 = 610\n",
       "- F(16) = F(14) + F(15) = 377 + 610 = 987\n",
       "- F(17) = F(15) + F(16) = 610 + 987 = 1597\n",
       "- F(18) = F(16) + F(17) = 987 + 1597 = 2584\n",
       "- F(19) = F(17) + F(18) = 1597 + 2584 = 4181\n",
       "- F(20) = F(18) + F(19) = 2584 + 4181 = 6765\n",
       "\n",
       "Thus, the 20th number in the Fibonacci sequence is **6765**."
      ],
      "text/plain": [
       "<IPython.core.display.Markdown object>"
      ]
     },
     "metadata": {},
     "output_type": "display_data"
    }
   ],
   "source": [
    "from IPython.display import display,Markdown\n",
    "\n",
    "display(Markdown(answer))"
   ]
  },
  {
   "cell_type": "code",
   "execution_count": null,
   "metadata": {},
   "outputs": [],
   "source": []
  }
 ],
 "metadata": {
  "kernelspec": {
   "display_name": ".venv",
   "language": "python",
   "name": "python3"
  },
  "language_info": {
   "codemirror_mode": {
    "name": "ipython",
    "version": 3
   },
   "file_extension": ".py",
   "mimetype": "text/x-python",
   "name": "python",
   "nbconvert_exporter": "python",
   "pygments_lexer": "ipython3",
   "version": "3.12.11"
  }
 },
 "nbformat": 4,
 "nbformat_minor": 2
}
