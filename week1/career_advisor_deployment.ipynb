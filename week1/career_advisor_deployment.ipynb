{
 "cells": [
  {
   "cell_type": "code",
   "execution_count": 1,
   "metadata": {},
   "outputs": [
    {
     "name": "stderr",
     "output_type": "stream",
     "text": [
      "c:\\Users\\Vigneshwar Kandhaiya\\Desktop\\my learning\\Agentic_ai\\Ai_Agents_self_work\\Agents\\.venv\\Lib\\site-packages\\tqdm\\auto.py:21: TqdmWarning: IProgress not found. Please update jupyter and ipywidgets. See https://ipywidgets.readthedocs.io/en/stable/user_install.html\n",
      "  from .autonotebook import tqdm as notebook_tqdm\n"
     ]
    }
   ],
   "source": [
    "import os\n",
    "import json\n",
    "import requests\n",
    "import gradio as gr\n",
    "from dotenv import load_dotenv\n",
    "from openai import OpenAI\n",
    "from pypdf import PdfReader\n"
   ]
  },
  {
   "cell_type": "code",
   "execution_count": 2,
   "metadata": {},
   "outputs": [],
   "source": [
    "load_dotenv()\n",
    "openai=OpenAI()\n",
    "\n",
    "pushover_token=os.getenv(\"PUSHOVER_TOKEN\")\n",
    "pushover_user=os.getenv(\"PUSHOVER_USER\")\n",
    "pushover_url = \"https://api.pushover.net/1/messages.json\""
   ]
  },
  {
   "cell_type": "code",
   "execution_count": 3,
   "metadata": {},
   "outputs": [],
   "source": [
    "def push(message):\n",
    "    print(f\"Push: {message}\")\n",
    "    payload={\"user\": pushover_user,\"token\": pushover_token, \"message\": message}\n",
    "    requests.post(pushover_url,data=payload)"
   ]
  },
  {
   "cell_type": "code",
   "execution_count": 4,
   "metadata": {},
   "outputs": [
    {
     "name": "stdout",
     "output_type": "stream",
     "text": [
      "Push: Hi\n"
     ]
    }
   ],
   "source": [
    "push(\"Hi\")"
   ]
  },
  {
   "cell_type": "code",
   "execution_count": 5,
   "metadata": {},
   "outputs": [],
   "source": [
    "def record_user_details(email,name=\"Name not provided\",notes=\"Notes not provided\"):\n",
    "    push(f\"Recording the interest from user {name} with email {email} and notes {notes}\")\n",
    "    return {\"recorded\": \"ok\"}\n"
   ]
  },
  {
   "cell_type": "code",
   "execution_count": 6,
   "metadata": {},
   "outputs": [],
   "source": [
    "def record_unknown_question(question):\n",
    "    push(f\"Recording question {question} that I could not answer\")\n",
    "    return {\"recorded\": \"ok\"}"
   ]
  },
  {
   "cell_type": "code",
   "execution_count": 7,
   "metadata": {},
   "outputs": [
    {
     "name": "stdout",
     "output_type": "stream",
     "text": [
      "Push: Recording the interest from user Name not provided with email vignesh.k2@gmail.com and notes Notes not provided\n"
     ]
    },
    {
     "data": {
      "text/plain": [
       "{'recorded': 'ok'}"
      ]
     },
     "execution_count": 7,
     "metadata": {},
     "output_type": "execute_result"
    }
   ],
   "source": [
    "record_user_details(\"vignesh.k2@gmail.com\")"
   ]
  },
  {
   "cell_type": "code",
   "execution_count": 8,
   "metadata": {},
   "outputs": [],
   "source": [
    "record_user_details_json={\n",
    "    \"name\": \"record_user_details\",\n",
    "    \"description\": \"Use this tool to record that a user is interested in being touch and provide an email address\",\n",
    "    \"parameters\":{\n",
    "        \"type\": \"object\",\n",
    "        \"properties\":{\n",
    "            \"email\":{\n",
    "                \"type\": \"string\",\n",
    "                \"description\": \"The email address of the user\"\n",
    "            },\n",
    "            \"name\":{\n",
    "                \"type\": \"string\",\n",
    "                \"description\": \"The name of the user\"\n",
    "            },\n",
    "            \"notes\":{\n",
    "                \"type\": \"string\",\n",
    "                \"description\": \"Any additional information about the conversation that's worth recording to give context\"\n",
    "            }        \n",
    "        },\n",
    "        \"required\":[\"email\"],\n",
    "        \"additionalProperties\": False\n",
    "    }\n",
    "}"
   ]
  },
  {
   "cell_type": "code",
   "execution_count": 9,
   "metadata": {},
   "outputs": [],
   "source": [
    "record_unknown_question_json={\n",
    "    \"name\": \"record_unknown_question\",\n",
    "    \"description\": \"Always use this tool to record the questions that you are unable to answer as you do not have the context\",\n",
    "    \"parameters\":{\n",
    "        \"type\": \"object\",\n",
    "        \"properties\":{\n",
    "            \"question\":{\n",
    "                \"type\": \"string\",\n",
    "                \"description\": \"The question that could not be answered\"\n",
    "            }\n",
    "        },\n",
    "        \"required\": [\"question\"],\n",
    "        \"additionalProperties\": False\n",
    "    }\n",
    "}"
   ]
  },
  {
   "cell_type": "code",
   "execution_count": 10,
   "metadata": {},
   "outputs": [],
   "source": [
    "tools=[\n",
    "    {\"type\": \"function\",\"function\": record_user_details_json},\n",
    "    {\"type\": \"function\",\"function\": record_unknown_question_json}\n",
    "]"
   ]
  },
  {
   "cell_type": "code",
   "execution_count": 11,
   "metadata": {},
   "outputs": [
    {
     "data": {
      "text/plain": [
       "[{'type': 'function',\n",
       "  'function': {'name': 'record_user_details',\n",
       "   'description': 'Use this tool to record that a user is interested in being touch and provide an email address',\n",
       "   'parameters': {'type': 'object',\n",
       "    'properties': {'email': {'type': 'string',\n",
       "      'description': 'The email address of the user'},\n",
       "     'name': {'type': 'string', 'description': 'The name of the user'},\n",
       "     'notes': {'type': 'string',\n",
       "      'description': \"Any additional information about the conversation that's worth recording to give context\"}},\n",
       "    'required': ['email'],\n",
       "    'additionalProperties': False}}},\n",
       " {'type': 'function',\n",
       "  'function': {'name': 'record_unknown_question',\n",
       "   'description': 'Always use this tool to record the questions that you are unable to answer as you do not have the context',\n",
       "   'parameters': {'type': 'object',\n",
       "    'properties': {'question': {'type': 'string',\n",
       "      'description': 'The question that could not be answered'}},\n",
       "    'required': ['question'],\n",
       "    'additionalProperties': False}}}]"
      ]
     },
     "execution_count": 11,
     "metadata": {},
     "output_type": "execute_result"
    }
   ],
   "source": [
    "tools"
   ]
  },
  {
   "cell_type": "code",
   "execution_count": 21,
   "metadata": {},
   "outputs": [],
   "source": [
    "def handle_tool_calls(tool_calls):\n",
    "    results=[]\n",
    "    for tool_call in tool_calls:\n",
    "        tool_name=tool_call.function.name\n",
    "        arguments=json.loads(tool_call.function.arguments)\n",
    "        print(f\"Tool Called : {tool_name}\", flush=True)\n",
    "        tool=globals().get(tool_name)\n",
    "        result=tool(**arguments) if tool else {}\n",
    "        results.append({\"role\": \"tool\", \"content\": json.dumps(result), \"tool_call_id\": tool_call.id})\n",
    "\n",
    "    return results\n",
    "\n"
   ]
  },
  {
   "cell_type": "code",
   "execution_count": 16,
   "metadata": {},
   "outputs": [],
   "source": [
    "reader=PdfReader(\"vignesh_linkedin.pdf\")\n",
    "linkedin=\"\"\n",
    "for page in reader.pages:\n",
    "    text=page.extract_text()\n",
    "    if text:\n",
    "        linkedin+=text\n",
    "\n",
    "with open(\"vigneshwar_kandhaiya_summary.txt\", \"r\") as f:\n",
    "    summary=f.read()\n",
    "\n",
    "name=\"Vigneshwar Kandhaiya\""
   ]
  },
  {
   "cell_type": "code",
   "execution_count": 17,
   "metadata": {},
   "outputs": [],
   "source": [
    "system_prompt=f\"\"\" You are acting as a {name} . You are answering questions on {name}'s profile.\n",
    "Particularly, questions related to the {name}'s career, expectation,background and skills.\n",
    "Your responsibility is to represent {name} for interactions on the website as faithfully as possible.\n",
    "You are provided with a summary of {name}'s background and LinkedIn profile which you can use to answer the questions.\n",
    "Be professional and engaging , as if you are talking to a potential client or a Future employer who wants to know about you.\n",
    "If you don't know the answer to a question, use your record_unknown_question tool to record questions that you couldn't answer or even trivial or unrelated to career.\n",
    "If the user is engaging in discussion, try to steer them towards getting in touch via email; ask for their email and record it using your record_user_details tool. \"\n",
    "\n",
    "\\n\\n ## Summary : \\n {summary} \\n\\n ## LinkedIn : \\n {linkedin}\n",
    "With this context , please chat with the user ,always staying in character as {name}\n",
    "\"\"\""
   ]
  },
  {
   "cell_type": "code",
   "execution_count": 19,
   "metadata": {},
   "outputs": [],
   "source": [
    "def chat(message,history):\n",
    "    messages=[{\"role\": \"system\",\"content\": system_prompt}] + history + [{\"role\": \"user\",\"content\":message}]\n",
    "    done=False\n",
    "    while not done:\n",
    "        response=openai.chat.completions.create(model=\"gpt-4o-mini\",messages=messages,tools=tools)\n",
    "        finish_reason=response.choices[0].finish_reason\n",
    "\n",
    "        if finish_reason==\"tool_calls\":\n",
    "            message=response.choices[0].message\n",
    "            tool_calls=message.tool_calls\n",
    "            results=handle_tool_calls(tool_calls)\n",
    "            messages.append(message)\n",
    "            messages.extend(results)\n",
    "        else:\n",
    "            done=True\n",
    "    return response.choices[0].message.content"
   ]
  },
  {
   "cell_type": "code",
   "execution_count": 22,
   "metadata": {},
   "outputs": [
    {
     "name": "stdout",
     "output_type": "stream",
     "text": [
      "* Running on local URL:  http://127.0.0.1:7861\n",
      "* To create a public link, set `share=True` in `launch()`.\n"
     ]
    },
    {
     "data": {
      "text/html": [
       "<div><iframe src=\"http://127.0.0.1:7861/\" width=\"100%\" height=\"500\" allow=\"autoplay; camera; microphone; clipboard-read; clipboard-write;\" frameborder=\"0\" allowfullscreen></iframe></div>"
      ],
      "text/plain": [
       "<IPython.core.display.HTML object>"
      ]
     },
     "metadata": {},
     "output_type": "display_data"
    },
    {
     "data": {
      "text/plain": []
     },
     "execution_count": 22,
     "metadata": {},
     "output_type": "execute_result"
    },
    {
     "name": "stdout",
     "output_type": "stream",
     "text": [
      "Tool Called : record_unknown_question\n",
      "Push: Recording question Do you like cricket? that I could not answer\n",
      "Tool Called : record_user_details\n",
      "Push: Recording the interest from user Name not provided with email vigneshwar.k2@gmail.com and notes Notes not provided\n"
     ]
    }
   ],
   "source": [
    "gr.ChatInterface(chat,type='messages').launch()"
   ]
  },
  {
   "cell_type": "code",
   "execution_count": null,
   "metadata": {},
   "outputs": [],
   "source": []
  },
  {
   "cell_type": "code",
   "execution_count": null,
   "metadata": {},
   "outputs": [],
   "source": []
  },
  {
   "cell_type": "code",
   "execution_count": null,
   "metadata": {},
   "outputs": [],
   "source": []
  }
 ],
 "metadata": {
  "kernelspec": {
   "display_name": ".venv",
   "language": "python",
   "name": "python3"
  },
  "language_info": {
   "codemirror_mode": {
    "name": "ipython",
    "version": 3
   },
   "file_extension": ".py",
   "mimetype": "text/x-python",
   "name": "python",
   "nbconvert_exporter": "python",
   "pygments_lexer": "ipython3",
   "version": "3.12.11"
  }
 },
 "nbformat": 4,
 "nbformat_minor": 2
}
